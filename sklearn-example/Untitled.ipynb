{
 "cells": [
  {
   "cell_type": "code",
   "execution_count": 25,
   "id": "a6715b76-f533-4951-ae4a-2bba2e769e8d",
   "metadata": {
    "tags": []
   },
   "outputs": [
    {
     "name": "stdout",
     "output_type": "stream",
     "text": [
      "============= Diagnostic Run torch.onnx.export version 2.0.0+cu118 =============\n",
      "verbose: False, log level: Level.ERROR\n",
      "======================= 0 NONE 0 NOTE 0 WARNING 0 ERROR ========================\n",
      "\n",
      "ONNX 模型轉換成功！\n"
     ]
    }
   ],
   "source": [
    "import numpy as np\n",
    "from sklearn.ensemble import IsolationForest\n",
    "import hummingbird.ml\n",
    "\n",
    "# 1. 建立模擬數據\n",
    "np.random.seed(42)\n",
    "X_train = np.random.rand(100, 200).astype(np.float32)  # 訓練數據\n",
    "X_test = np.random.rand(10, 200).astype(np.float32)    # 測試數據\n",
    "\n",
    "# 2. 訓練 Isolation Forest 模型\n",
    "model = IsolationForest(n_estimators=10, max_samples=8)\n",
    "model.fit(X_train)\n",
    "\n",
    "# ONNX 後端\n",
    "onnx_model = hummingbird.ml.convert(model, \"onnx\", test_input=X_test)\n",
    "assert onnx_model is not None\n",
    "print(\"ONNX 模型轉換成功！\")\n",
    "\n",
    "# 4. 儲存 ONNX 模型\n",
    "onnx_model_path = \"isolation_forest_model.onnx\"\n",
    "onnx.save_model(onnx_model.model, onnx_model_path)"
   ]
  },
  {
   "cell_type": "code",
   "execution_count": 26,
   "id": "d18654f1-5e73-4e6e-b4cf-3e5ecfe4ef95",
   "metadata": {
    "tags": []
   },
   "outputs": [
    {
     "name": "stdout",
     "output_type": "stream",
     "text": [
      "Model saved with digest: 94c89d1b525a3788b7f8bd0b58484f473bdb941f\n"
     ]
    },
    {
     "data": {
      "text/plain": [
       "'94c89d1b525a3788b7f8bd0b58484f473bdb941f'"
      ]
     },
     "execution_count": 26,
     "metadata": {},
     "output_type": "execute_result"
    }
   ],
   "source": [
    "onnx_model.save('onnx-tmp')"
   ]
  },
  {
   "cell_type": "code",
   "execution_count": 27,
   "id": "dc0b362a-423a-4602-b6a9-fe8e5cefa591",
   "metadata": {
    "tags": []
   },
   "outputs": [
    {
     "name": "stdout",
     "output_type": "stream",
     "text": [
      "Archive:  onnx-tmp.zip\n",
      "  inflating: model_type.txt          \n",
      "  inflating: container.pkl           \n",
      "  inflating: model_configuration.txt  \n",
      "  inflating: deploy_model.onnx       \n"
     ]
    }
   ],
   "source": [
    "!unzip onnx-tmp.zip"
   ]
  },
  {
   "cell_type": "code",
   "execution_count": null,
   "id": "d9ac64ac-cd29-442c-9e19-f8622654bfb6",
   "metadata": {},
   "outputs": [],
   "source": [
    "# 7. 驗證轉換後的模型\n",
    "session = rt.InferenceSession(hb_onnx_model_path)\n",
    "input_name = session.get_inputs()[0].name\n",
    "output_name = session.get_outputs()[0].name\n",
    "\n",
    "# 測試推論\n",
    "test_data = np.array([[0, 0], [3, 3], [-3, -3]], dtype=np.float32)\n",
    "predictions = session.run([output_name], {input_name: test_data})\n",
    "print(\"推論結果：\", predictions)\n"
   ]
  },
  {
   "cell_type": "code",
   "execution_count": 3,
   "id": "853fb148-c807-4021-a9ac-47e29f630017",
   "metadata": {
    "tags": []
   },
   "outputs": [
    {
     "name": "stdout",
     "output_type": "stream",
     "text": [
      "1.17.0\n"
     ]
    }
   ],
   "source": [
    "import skl2onnx\n",
    "print(skl2onnx.__version__)"
   ]
  },
  {
   "cell_type": "code",
   "execution_count": null,
   "id": "3b149523-dc5a-4164-8468-743583e8a0ce",
   "metadata": {},
   "outputs": [],
   "source": []
  }
 ],
 "metadata": {
  "kernelspec": {
   "display_name": "Python 3 (ipykernel)",
   "language": "python",
   "name": "python3"
  },
  "language_info": {
   "codemirror_mode": {
    "name": "ipython",
    "version": 3
   },
   "file_extension": ".py",
   "mimetype": "text/x-python",
   "name": "python",
   "nbconvert_exporter": "python",
   "pygments_lexer": "ipython3",
   "version": "3.9.18"
  }
 },
 "nbformat": 4,
 "nbformat_minor": 5
}
