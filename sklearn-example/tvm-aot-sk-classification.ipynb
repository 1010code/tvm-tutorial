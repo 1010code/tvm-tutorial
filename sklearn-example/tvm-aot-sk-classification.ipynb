{
 "cells": [
  {
   "cell_type": "markdown",
   "id": "a90e72b9-d312-4cb2-af1b-851e178f34ea",
   "metadata": {},
   "source": [
    "# microTVM Ahead-of-Time (AOT) Compilation\n",
    "本教學展示了使用 TensorFlow 模型進行 microTVM 主機驅動的 AoT 編譯，並使用 C Runtime (CRT) 在 x86 CPU 上執行。與 GraphExecutor 相比，AoTExecutor 減少了運行時解析圖的開銷。此外，我們可以使用提前編譯來實現更好的記憶體管理。\n",
    "\n",
    "**AOT Executor 的特性：**\n",
    "AOT executor 產生的 C code 會包含一組函式介面，像是 tvmgen_default_run()、tvmgen_default_set_input()、tvmgen_default_get_output() 等函式。使用者可以在一個獨立的 C 程式碼中。\n",
    "\n",
    "- 包含 model.c 或是將其編譯為物件檔後連結\n",
    "- 呼叫這些函式來設定輸入、執行推論、取得輸出\n",
    "\n",
    "同時也需要少量的 CRT runtime 支援檔案（通常是一些 platform.c/h 和 memory alloc 等簡單函式）。不過這不再是大型的 libtvm_runtime.so，而是幾個可以輕鬆整合進你專案的單檔 C 程式碼。\n",
    "\n",
    "## 1. TVM 載入 ONNX 模型\n",
    "使用 ONNX 套件載入事先預訓練好的 DNN 鳶尾花分類模型。並透過 TVM 將 ONNX 模型轉換為 Relay 模組。"
   ]
  },
  {
   "cell_type": "code",
   "execution_count": 3,
   "id": "53dda51f-afa3-4d78-bd49-7a553c1b5297",
   "metadata": {
    "tags": []
   },
   "outputs": [],
   "source": [
    "import onnx\n",
    "import tvm\n",
    "from tvm import relay\n",
    "\n",
    "# 載入 ONNX 模型\n",
    "onnx_model = onnx.load(\"./model/rfc/deploy_model.onnx\")\n",
    "onnx_model = onnx.load(\"./model/logistic/modified_model.onnx\")\n",
    "# onnx_model = onnx.load(\"./modified_model.onnx\")\n",
    "\n",
    "# 定義輸入資訊\n",
    "input_name = 'float_input'\n",
    "shape_dict = {input_name: (1, 4)}\n",
    "\n",
    "# 將 ONNX 模型轉換為 Relay 模組\n",
    "mod, params = relay.frontend.from_onnx(onnx_model, shape_dict)"
   ]
  },
  {
   "cell_type": "markdown",
   "id": "560220db-5705-42b2-a1a8-bb440219551b",
   "metadata": {
    "tags": []
   },
   "source": [
    "## 1.1 修改 ONNX 模型(替換運算子)\n",
    "TVM 的 C backend 對於某些運算子的支援度可能不足。遇到的 Unresolved call Op(tir.fabs) 錯誤，明確指出 C backend 無法處理絕對值運算 (fabs)。\n",
    "\n",
    "以下是如何替換節點的範例，例如將 Abs 運算子替換成 Sqrt。"
   ]
  },
  {
   "cell_type": "code",
   "execution_count": 2,
   "id": "10feecec-e637-4717-bf07-a1c7c335c7a5",
   "metadata": {
    "tags": []
   },
   "outputs": [],
   "source": [
    "import onnx\n",
    "from onnx import helper, numpy_helper\n",
    "\n",
    "onnx_model = onnx.load(\"./model/logistic/deploy_model.onnx\")\n",
    "graph = onnx_model.graph\n",
    "\n",
    "# 使用倒序迴圈，避免刪除節點影響後續索引\n",
    "for i in reversed(range(len(graph.node))):\n",
    "    node = graph.node[i]\n",
    "    if node.op_type == \"Abs\":\n",
    "        input_name = node.input[0]\n",
    "        output_name = node.output[0]\n",
    "\n",
    "        # 建立 Mul 節點\n",
    "        mul_node = helper.make_node(\n",
    "            \"Mul\",\n",
    "            inputs=[input_name, input_name],\n",
    "            outputs=[input_name + \"_squared\"],\n",
    "            name=node.name + \"_mul\" if node.name else \"mul_\" + str(i)\n",
    "        )\n",
    "\n",
    "        # 建立 Sqrt 節點\n",
    "        sqrt_node = helper.make_node(\n",
    "            \"Sqrt\",\n",
    "            inputs=[input_name + \"_squared\"],\n",
    "            outputs=[output_name],\n",
    "            name=node.name + \"_sqrt\" if node.name else \"sqrt_\" + str(i)\n",
    "        )\n",
    "\n",
    "        # 將新節點插入到原 Abs 節點的位置\n",
    "        graph.node.insert(i, sqrt_node)\n",
    "        graph.node.insert(i, mul_node)\n",
    "\n",
    "        # 刪除原 Abs 節點\n",
    "        graph.node.pop(i + 2)  # 注意索引變化\n",
    "\n",
    "onnx.checker.check_model(onnx_model)\n",
    "onnx.save(onnx_model, \"./model/logistic/modified_model.onnx\")"
   ]
  },
  {
   "cell_type": "markdown",
   "id": "a8bf5374-a720-4547-8213-8cf4716499f9",
   "metadata": {},
   "source": [
    "## 2. 使用 AOT Executor 與 C Runtime\n",
    "如果希望生成一份不依賴 `libtvm_runtime.so` 的純 C 原始碼來進行推論，可以考慮使用 TVM 的 AOT (Ahead-of-Time) Executor 搭配 \"crt\" (C runtime)。這種組合會產生一組相對獨立的 C 程式碼，並且執行階段環境較為簡化，不需要額外動態連結到 TVM 的 runtime shared library。\n",
    "\n",
    "在進行 TVM 編譯時，可以指定 AOT Executor 和 CRT Runtime，並啟用 `link-params`，讓模型參數直接嵌入程式碼內，免去額外的參數檔案。此外，在建立 AOT Executor 時，透過將 `interface-api` 設定為 `c` 以及將 `unpacked-api` 設定為 `True`，可以要求 TVM 生成一套清晰的 C 函式介面以及對應的標頭檔案，方便外部呼叫與整合。\n",
    "\n",
    "需要注意的是，在 CodeGen 階段通常會啟用向量化優化，這可能導致生成的程式碼包含 GCC 或 Clang 特定的向量語法，例如 float3、float5 的向量型態初始化，這些屬於非標準 C 語法。為了解決這個問題，可以在 PassContext 中禁用向量化的設定 `tir.disable_vectorize`，這樣生成的程式碼就不會包含類似 float3、float5 的向量初始化。"
   ]
  },
  {
   "cell_type": "code",
   "execution_count": 4,
   "id": "50fc6c7f-a492-40cb-b9cd-45b8844cc304",
   "metadata": {},
   "outputs": [
    {
     "name": "stderr",
     "output_type": "stream",
     "text": [
      "One or more operators have not been tuned. Please tune your model for better performance. Use DEBUG logging level to see more details.\n",
      "[08:48:21] /home/jovyan/project/ONNX-MLIR/tvm/src/te/schedule/bound.cc:119: not in feed graph consumer = compute(p0_red_temp, body=[T.reduce(T.comm_reducer(lambda argmax_lhs_0, argmax_lhs_1, argmax_rhs_0, argmax_rhs_1: (T.Select(argmax_lhs_1 > argmax_rhs_1 or argmax_lhs_1 == argmax_rhs_1 and argmax_lhs_0 < argmax_rhs_0, argmax_lhs_0, argmax_rhs_0), T.Select(argmax_lhs_1 > argmax_rhs_1, argmax_lhs_1, argmax_rhs_1)), [-1, T.float32(-340282346638528859811704183484516925440.0)]), source=[k1, p0[ax0, k1]], init=[], axis=[T.iter_var(k1, T.Range(0, 3), \"CommReduce\", \"\")], condition=T.bool(True), value_index=0), T.reduce(T.comm_reducer(lambda argmax_lhs_0, argmax_lhs_1, argmax_rhs_0, argmax_rhs_1: (T.Select(argmax_lhs_1 > argmax_rhs_1 or argmax_lhs_1 == argmax_rhs_1 and argmax_lhs_0 < argmax_rhs_0, argmax_lhs_0, argmax_rhs_0), T.Select(argmax_lhs_1 > argmax_rhs_1, argmax_lhs_1, argmax_rhs_1)), [-1, T.float32(-340282346638528859811704183484516925440.0)]), source=[k1, p0[ax0, k1]], init=[], axis=[T.iter_var(k1, T.Range(0, 3), \"CommReduce\", \"\")], condition=T.bool(True), value_index=1)], axis=[T.iter_var(ax0, T.Range(0, 1), \"DataPar\", \"\")], reduce_axis=[T.iter_var(k1, T.Range(0, 3), \"CommReduce\", \"\")], tag=comm_reduce_idx, attrs={})\n"
     ]
    }
   ],
   "source": [
    "from tvm.relay.backend import Executor, Runtime\n",
    "\n",
    "executor = Executor(\"aot\", {\n",
    "    \"interface-api\": \"c\",    # 使用 C 接口而非 packed\n",
    "    \"unpacked-api\": True,    # 使用 unpacked 函式簽章（參數直接用 C 函式參數方式傳遞）\n",
    "    \"link-params\": True      # 將參數嵌入程式中\n",
    "})\n",
    "runtime = Runtime(\"crt\")\n",
    "# 設定目標為嵌入式設備，使用 MicroTVM\n",
    "target = \"c\"\n",
    "# target = tvm.target.target.micro(\"host\")\n",
    "\n",
    "with tvm.transform.PassContext(opt_level=0, config={\"tir.disable_vectorize\": True}):\n",
    "    lib = relay.build(mod, target=target, runtime=runtime, executor=executor, params=params)"
   ]
  },
  {
   "cell_type": "markdown",
   "id": "08fae5f6-7e99-416d-904a-d8964c580cf9",
   "metadata": {},
   "source": [
    "如此產生的 AOT 程式碼會對應生成更容易使用的 C 接口函式。\n",
    "> 上述 link-params=True 會將參數直接打包進產生的 C 程式碼中。如此一來，你就不需要另外載入 params.bin。\n",
    "\n",
    "## 3. 使用 MLF 格式匯出\n",
    "microTVM 的相關功能，這個函式會將模型以 MLF 格式輸出。然後你解壓縮 model.tar 就能看到 .h 檔等檔案。"
   ]
  },
  {
   "cell_type": "code",
   "execution_count": 5,
   "id": "4c4a768b-f58d-46d3-b051-f884106a5dc8",
   "metadata": {
    "tags": []
   },
   "outputs": [
    {
     "data": {
      "text/plain": [
       "PosixPath('model.tar')"
      ]
     },
     "execution_count": 5,
     "metadata": {},
     "output_type": "execute_result"
    }
   ],
   "source": [
    "from tvm.micro import export_model_library_format\n",
    "export_model_library_format(lib, \"model.tar\")"
   ]
  },
  {
   "cell_type": "markdown",
   "id": "2c7cb933-1d04-4316-abba-3b1a0bea8f3a",
   "metadata": {},
   "source": [
    "## 4. C 實作前置作業\n",
    "### 4.1 解壓縮 MLF\n",
    "將 model.tar 解壓縮後，你會看到很多的資料夾與檔案。展開後的結構大致會包含：\n",
    "- codegen/host/include/tvmgen_default.h：你的模型函式介面(header檔)\n",
    "- codegen/host/src/default_lib0.c、default_lib1.c：模型核心計算程式碼\n",
    "- runtime/：TVM CRT (C Runtime) 所需的原始碼和標頭檔案\n",
    "- parameters/default.params：模型的參數 (如果沒有 link-params=true 時會需要)"
   ]
  },
  {
   "cell_type": "code",
   "execution_count": 6,
   "id": "d87eb235-480f-45cb-ba1e-984f818ff1e3",
   "metadata": {
    "tags": []
   },
   "outputs": [
    {
     "name": "stdout",
     "output_type": "stream",
     "text": [
      "./\n",
      "./codegen/\n",
      "./codegen/host/\n",
      "./codegen/host/include/\n",
      "./codegen/host/include/tvmgen_default.h\n",
      "./codegen/host/src/\n",
      "./codegen/host/src/default_lib0.c\n",
      "./codegen/host/src/default_lib1.c\n",
      "./metadata.json\n",
      "./parameters/\n",
      "./parameters/default.params\n",
      "./src/\n",
      "./src/default.relay\n",
      "./runtime/\n",
      "./runtime/CMakeLists.txt\n",
      "./runtime/include/\n",
      "./runtime/include/checksum.h\n",
      "./runtime/include/dlpack/\n",
      "./runtime/include/dlpack/dlpack.h\n",
      "./runtime/include/dmlc/\n",
      "./runtime/include/dmlc/any.h\n",
      "./runtime/include/dmlc/array_view.h\n",
      "./runtime/include/dmlc/base.h\n",
      "./runtime/include/dmlc/blockingconcurrentqueue.h\n",
      "./runtime/include/dmlc/build_config_default.h\n",
      "./runtime/include/dmlc/common.h\n",
      "./runtime/include/dmlc/concurrency.h\n",
      "./runtime/include/dmlc/concurrentqueue.h\n",
      "./runtime/include/dmlc/config.h\n",
      "./runtime/include/dmlc/data.h\n",
      "./runtime/include/dmlc/endian.h\n",
      "./runtime/include/dmlc/filesystem.h\n",
      "./runtime/include/dmlc/input_split_shuffle.h\n",
      "./runtime/include/dmlc/io.h\n",
      "./runtime/include/dmlc/json.h\n",
      "./runtime/include/dmlc/logging.h\n",
      "./runtime/include/dmlc/lua.h\n",
      "./runtime/include/dmlc/memory.h\n",
      "./runtime/include/dmlc/memory_io.h\n",
      "./runtime/include/dmlc/omp.h\n",
      "./runtime/include/dmlc/optional.h\n",
      "./runtime/include/dmlc/parameter.h\n",
      "./runtime/include/dmlc/recordio.h\n",
      "./runtime/include/dmlc/registry.h\n",
      "./runtime/include/dmlc/serializer.h\n",
      "./runtime/include/dmlc/strtonum.h\n",
      "./runtime/include/dmlc/thread_group.h\n",
      "./runtime/include/dmlc/thread_local.h\n",
      "./runtime/include/dmlc/threadediter.h\n",
      "./runtime/include/dmlc/timer.h\n",
      "./runtime/include/dmlc/type_traits.h\n",
      "./runtime/include/tvm/\n",
      "./runtime/include/tvm/runtime/\n",
      "./runtime/include/tvm/runtime/c_backend_api.h\n",
      "./runtime/include/tvm/runtime/c_runtime_api.h\n",
      "./runtime/include/tvm/runtime/crt/\n",
      "./runtime/include/tvm/runtime/crt/aot_executor.h\n",
      "./runtime/include/tvm/runtime/crt/aot_executor_module.h\n",
      "./runtime/include/tvm/runtime/crt/crt.h\n",
      "./runtime/include/tvm/runtime/crt/error_codes.h\n",
      "./runtime/include/tvm/runtime/crt/func_registry.h\n",
      "./runtime/include/tvm/runtime/crt/graph_executor.h\n",
      "./runtime/include/tvm/runtime/crt/graph_executor_module.h\n",
      "./runtime/include/tvm/runtime/crt/internal/\n",
      "./runtime/include/tvm/runtime/crt/internal/common/\n",
      "./runtime/include/tvm/runtime/crt/internal/common/func_registry.h\n",
      "./runtime/include/tvm/runtime/crt/internal/common/ndarray.h\n",
      "./runtime/include/tvm/runtime/crt/internal/graph_executor/\n",
      "./runtime/include/tvm/runtime/crt/internal/graph_executor/graph_executor.h\n",
      "./runtime/include/tvm/runtime/crt/internal/graph_executor/load_json.h\n",
      "./runtime/include/tvm/runtime/crt/internal/memory/\n",
      "./runtime/include/tvm/runtime/crt/internal/memory/page_allocator.h\n",
      "./runtime/include/tvm/runtime/crt/logging.h\n",
      "./runtime/include/tvm/runtime/crt/microtvm_rpc_server.h\n",
      "./runtime/include/tvm/runtime/crt/module.h\n",
      "./runtime/include/tvm/runtime/crt/packed_func.h\n",
      "./runtime/include/tvm/runtime/crt/page_allocator.h\n",
      "./runtime/include/tvm/runtime/crt/platform.h\n",
      "./runtime/include/tvm/runtime/crt/rpc_common/\n",
      "./runtime/include/tvm/runtime/crt/rpc_common/frame_buffer.h\n",
      "./runtime/include/tvm/runtime/crt/rpc_common/framing.h\n",
      "./runtime/include/tvm/runtime/crt/rpc_common/session.h\n",
      "./runtime/include/tvm/runtime/crt/rpc_common/write_stream.h\n",
      "./runtime/include/tvm/runtime/crt/stack_allocator.h\n",
      "./runtime/include/tvm/runtime/metadata_types.h\n",
      "./runtime/src/\n",
      "./runtime/src/runtime/\n",
      "./runtime/src/runtime/crt/\n",
      "./runtime/src/runtime/crt/aot_executor/\n",
      "./runtime/src/runtime/crt/aot_executor/aot_executor.c\n",
      "./runtime/src/runtime/crt/aot_executor_module/\n",
      "./runtime/src/runtime/crt/aot_executor_module/aot_executor_module.c\n",
      "./runtime/src/runtime/crt/common/\n",
      "./runtime/src/runtime/crt/common/crt_backend_api.c\n",
      "./runtime/src/runtime/crt/common/crt_runtime_api.c\n",
      "./runtime/src/runtime/crt/common/func_registry.c\n",
      "./runtime/src/runtime/crt/common/ndarray.c\n",
      "./runtime/src/runtime/crt/common/packed_func.c\n",
      "./runtime/src/runtime/crt/graph_executor/\n",
      "./runtime/src/runtime/crt/graph_executor/graph_executor.c\n",
      "./runtime/src/runtime/crt/graph_executor/load_json.c\n",
      "./runtime/src/runtime/crt/graph_executor_module/\n",
      "./runtime/src/runtime/crt/graph_executor_module/graph_executor_module.c\n",
      "./runtime/src/runtime/crt/memory/\n",
      "./runtime/src/runtime/crt/memory/page_allocator.c\n",
      "./runtime/src/runtime/crt/memory/stack_allocator.c\n",
      "./runtime/src/runtime/crt/microtvm_rpc_common/\n",
      "./runtime/src/runtime/crt/microtvm_rpc_common/crcccitt.c\n",
      "./runtime/src/runtime/crt/microtvm_rpc_common/frame_buffer.cc\n",
      "./runtime/src/runtime/crt/microtvm_rpc_common/framing.cc\n",
      "./runtime/src/runtime/crt/microtvm_rpc_common/session.cc\n",
      "./runtime/src/runtime/crt/microtvm_rpc_common/write_stream.cc\n",
      "./runtime/src/runtime/crt/microtvm_rpc_server/\n",
      "./runtime/src/runtime/crt/microtvm_rpc_server/rpc_server.cc\n",
      "./runtime/src/runtime/crt/tab/\n",
      "./runtime/src/runtime/crt/tab/gentab_ccitt.inc\n",
      "./runtime/src/runtime/minrpc/\n",
      "./runtime/src/runtime/minrpc/minrpc_interfaces.h\n",
      "./runtime/src/runtime/minrpc/minrpc_logger.h\n",
      "./runtime/src/runtime/minrpc/minrpc_server.h\n",
      "./runtime/src/runtime/minrpc/minrpc_server_logging.h\n",
      "./runtime/src/runtime/minrpc/rpc_reference.h\n",
      "./runtime/src/support/\n",
      "./runtime/src/support/generic_arena.h\n",
      "./runtime/src/support/ssize.h\n",
      "./templates/crt_config.h.template\n",
      "./templates/platform.c.template\n",
      "/home/jovyan/project/ONNX-MLIR/tvm-tutorial/sklearn-example/build\n"
     ]
    }
   ],
   "source": [
    "!rm -rf build\n",
    "!mkdir build\n",
    "!tar xvf model.tar -C build\n",
    "!rm -rf model.tar\n",
    "%cd build"
   ]
  },
  {
   "cell_type": "markdown",
   "id": "ef0d7785-3063-4dae-b3a7-236337f10bdf",
   "metadata": {},
   "source": [
    "### 4.2 實作基本的記憶體配置\n",
    "建立 `crt_config.h` 與 `platform.c`。從 templates/crt_config.h.template 和 templates/platform.c.template 複製修改而得。"
   ]
  },
  {
   "cell_type": "code",
   "execution_count": 7,
   "id": "bd14a7b6-9e94-49b9-9b7c-4165838daf92",
   "metadata": {
    "tags": []
   },
   "outputs": [
    {
     "data": {
      "text/plain": [
       "['crt_config.h', 'platform.c']"
      ]
     },
     "execution_count": 7,
     "metadata": {},
     "output_type": "execute_result"
    }
   ],
   "source": [
    "import shutil\n",
    "import os\n",
    "\n",
    "# 檔案來源與目標目錄\n",
    "template_dir = \"templates\"\n",
    "target_dir = \".\"\n",
    "\n",
    "# 檔案名稱\n",
    "files_to_copy = {\n",
    "    \"crt_config.h.template\": \"crt_config.h\",\n",
    "    \"platform.c.template\": \"platform.c\"\n",
    "}\n",
    "\n",
    "# 確保模板目錄存在\n",
    "if not os.path.exists(template_dir):\n",
    "    raise FileNotFoundError(f\"模板目錄 '{template_dir}' 不存在，請確認目錄結構。\")\n",
    "\n",
    "# 複製檔案\n",
    "for template_file, target_file in files_to_copy.items():\n",
    "    source_path = os.path.join(template_dir, template_file)\n",
    "    target_path = os.path.join(target_dir, target_file)\n",
    "\n",
    "    if not os.path.exists(source_path):\n",
    "        raise FileNotFoundError(f\"模板檔案 '{source_path}' 不存在，請確認。\")\n",
    "\n",
    "    shutil.copy(source_path, target_path)\n",
    "\n",
    "# 檢查目標檔案是否已成功建立\n",
    "created_files = [file for file in files_to_copy.values() if os.path.exists(file)]\n",
    "created_files"
   ]
  },
  {
   "cell_type": "markdown",
   "id": "14435197-ce33-427d-8790-c6c367b6edc5",
   "metadata": {},
   "source": [
    "TVMLogf 和 TVMSystemLibEntryPoint 是 TVM CRT runtime 中預期的函式實作，通常需要在 `platform.c` 提供對應的實作。\n",
    "\n",
    "這段程式碼的功能是自動檢查 `platform.c` 是否存在，然後在檔案中新增所需的定義（引入標頭檔案與設定工作區大小）和兩個函式（用於日誌輸出與模型執行的進入點），確保內容只新增一次並正確插入，最後保存修改結果。\n",
    "\n",
    "- 在 `platform.c` 引入定義的變數並宣告 TVM_WORKSPACE_SIZE_BYTES 的大小。\n",
    "- 在 platform.c 中定義 TVMSystemLibEntryPoint 和 TVMLogf\n",
    "\n",
    "**實作 TVMLogf 函式**\n",
    "\n",
    "TVM CRT 預設需要一個 TVMLogf 函式來輸出日誌（log）。你需要在自己的 platform.c 中自行實作此函式。\n",
    "\n",
    "```c\n",
    "void TVMLogf(const char* msg, ...) {\n",
    "    va_list args;\n",
    "    va_start(args, msg);\n",
    "    vfprintf(stderr, msg, args);\n",
    "    va_end(args);\n",
    "}\n",
    "```\n",
    "\n",
    "這是一個簡單的實作，只是把 log 輸出到 stderr。\n",
    "\n",
    "**實作 TVMSystemLibEntryPoint 函式**\n",
    "\n",
    "這個符號通常在使用 system-lib 的情境下會被需要。\n",
    "如果你的程式中需要 TVMSystemLibEntryPoint，你可以在 platform.c 或另一個 c 檔案中給它一個空實作，避免 undefined reference。通常它是用來載入 system-lib 的註冊入口。\n",
    "\n",
    "```c\n",
    "extern void* tvmgen_default___tvm_main__;\n",
    "\n",
    "void* TVMSystemLibEntryPoint(void) {\n",
    "  return &tvmgen_default___tvm_main__;\n",
    "}\n",
    "```"
   ]
  },
  {
   "cell_type": "code",
   "execution_count": 8,
   "id": "7fb38a23-a5ca-41f6-93d7-ba7a082a8ad8",
   "metadata": {
    "tags": []
   },
   "outputs": [
    {
     "data": {
      "text/plain": [
       "['    va_start(args, msg);\\n',\n",
       " '    vfprintf(stderr, msg, args);\\n',\n",
       " '    va_end(args);\\n',\n",
       " '}\\n',\n",
       " '\\n',\n",
       " 'extern void* tvmgen_default___tvm_main__;\\n',\n",
       " '\\n',\n",
       " 'void* TVMSystemLibEntryPoint(void) {\\n',\n",
       " '  return &tvmgen_default___tvm_main__;\\n',\n",
       " '}\\n']"
      ]
     },
     "execution_count": 8,
     "metadata": {},
     "output_type": "execute_result"
    }
   ],
   "source": [
    "# 定義目標檔案名稱\n",
    "platform_file = \"platform.c\"\n",
    "\n",
    "# 檢查檔案是否存在\n",
    "import os\n",
    "\n",
    "if not os.path.exists(platform_file):\n",
    "    raise FileNotFoundError(f\"檔案 '{platform_file}' 不存在，請確認檔案名稱和目錄。\")\n",
    "\n",
    "# 新增的定義\n",
    "new_define = \"#include \\\"tvmgen_default.h\\\"\\n#define TVM_WORKSPACE_SIZE_BYTES TVMGEN_DEFAULT_WORKSPACE_SIZE\\n\"\n",
    "\n",
    "# 讀取原始檔案內容\n",
    "with open(platform_file, \"r\") as file:\n",
    "    lines = file.readlines()\n",
    "\n",
    "# 確保定義只新增一次\n",
    "if new_define not in lines:\n",
    "    # 將定義新增到檔案開頭（通常是放在 include 後面）\n",
    "    for i, line in enumerate(lines):\n",
    "        if line.startswith(\"#include\"):\n",
    "            insertion_index = i + 1\n",
    "            break\n",
    "    else:\n",
    "        insertion_index = 0  # 如果沒有 include，則放在檔案最開頭\n",
    "\n",
    "    lines.insert(insertion_index, new_define)\n",
    "\n",
    "# 定義要新增的函式內容\n",
    "additional_functions = \"\"\"\n",
    "void TVMLogf(const char* msg, ...) {\n",
    "    va_list args;\n",
    "    va_start(args, msg);\n",
    "    vfprintf(stderr, msg, args);\n",
    "    va_end(args);\n",
    "}\n",
    "\n",
    "extern void* tvmgen_default___tvm_main__;\n",
    "\n",
    "void* TVMSystemLibEntryPoint(void) {\n",
    "  return &tvmgen_default___tvm_main__;\n",
    "}\n",
    "\"\"\"\n",
    "\n",
    "# 確保函式只新增一次\n",
    "if additional_functions.strip() not in \"\".join(lines):\n",
    "    # 將函式新增到檔案結尾\n",
    "    lines.append(\"\\n\")  # 確保前面有換行\n",
    "    lines.append(additional_functions)\n",
    "\n",
    "# 寫回檔案\n",
    "with open(platform_file, \"w\") as file:\n",
    "    file.writelines(lines)\n",
    "\n",
    "# 確認檔案已更新\n",
    "with open(platform_file, \"r\") as file:\n",
    "    updated_content = file.readlines()\n",
    "\n",
    "updated_content[-10:]  # 顯示最後幾行，確認修改結果\n"
   ]
  },
  {
   "cell_type": "markdown",
   "id": "50124092-0b3f-469b-ba98-25dbac301bdf",
   "metadata": {},
   "source": [
    "## 5. C 推論實作\n",
    "將這些檔案組裝成一個可在C原生環境下直接執行推論的程式。\n",
    "\n",
    "### 5.1 準備必要檔案\n",
    "- `tvmgen_default.h`：已經在 codegen/host/include/ 下。\n",
    "- 模型程式碼：`default_lib0.c`、`default_lib1.c` (在 codegen/host/src/ 下)\n",
    "- TVM CRT Runtime 原始碼：在 runtime/src/ 有多個子目錄。\n",
    "- CRT 必要標頭：在 runtime/include/ 下\n",
    "- `crt_config.h` 與 `platform.c`：可由 templates/crt_config.h.template 和 templates/platform.c.template 複製修改而得。你需要提供一個 `crt_config.h` 設定檔案以及一個最小化的 `platform.c` 去實作基本的記憶體配置。\n",
    "\n",
    "### 5.2 撰寫 main.c（使用AOT介面進行推論）\n",
    "當前擁有的資料夾結構是 microTVM 的 MLF 輸出，其內含完整的 model C code、header檔、以及 TVM CRT 的程式碼。透過：\n",
    "\n",
    "1. 準備 main.c，包含 tvmgen_default.h 並呼叫模型執行函式\n",
    "2. 編譯所有必要的 C 檔案及 runtime 原始碼\n",
    "3. 提供 crt_config.h 與 platform.c（可從 templates 修改）\n",
    "\n",
    "就能成功產生一個可獨立運行的 C 執行檔，直接進行推論而不依賴外部的 libtvm_runtime.so。\n",
    "\n",
    "目前已經有了 `tvmgen_default.h`，可以撰寫一個 `main.c` 來呼叫 AOT 產生的函式介面。範例（以鳶尾花模型為例，假設輸入 shape=(1,4)，輸出 shape=(1,3)）："
   ]
  },
  {
   "cell_type": "code",
   "execution_count": null,
   "id": "cd5992d2-a549-4faa-a316-1c3ac423b40c",
   "metadata": {
    "tags": []
   },
   "outputs": [],
   "source": [
    "#include <stdio.h>\n",
    "#include <tvmgen_default.h>\n",
    "\n",
    "// 定義工作空間\n",
    "uint8_t workspace[TVMGEN_DEFAULT_WORKSPACE_SIZE];\n",
    "\n",
    "int main() {\n",
    "    // 準備輸入及輸出資料\n",
    "    float input_data[4] = {6.3, 3.3, 6.0, 2.5};\n",
    "    int32_t output0_data;\n",
    "    float output1_data[3];\n",
    "\n",
    "    struct tvmgen_default_inputs inputs = {\n",
    "        .float_input = (void*)input_data\n",
    "    };\n",
    "\n",
    "    struct tvmgen_default_outputs outputs = {\n",
    "        .output0 = (void*)&output0_data,\n",
    "        .output1 = (void*)output1_data\n",
    "    };\n",
    "\n",
    "    // 呼叫 run 函式，將 inputs & outputs 當作參數傳入\n",
    "    int32_t result = tvmgen_default_run(&inputs, &outputs);\n",
    "    if (result != 0) {\n",
    "        fprintf(stderr, \"Error: tvmgen_default_run failed with code %d\\n\", result);\n",
    "        return -1;\n",
    "    }\n",
    "\n",
    "    printf(\"First Inference:\\n\");\n",
    "    printf(\"Output0: %d\\n\", output0_data);\n",
    "    printf(\"Output1: %f %f %f\\n\", output1_data[0], output1_data[1], output1_data[2]);\n",
    "\n",
    "    return 0;\n",
    "}"
   ]
  },
  {
   "cell_type": "markdown",
   "id": "9ce9de40-3e6b-4aee-bd72-e7e441a96230",
   "metadata": {},
   "source": [
    "### 5.3 編譯整合\n",
    "你需要將下列檔案一起編譯並連結：\n",
    "\n",
    "- `main.c` (你自己寫的)\n",
    "- `codegen/host/src/default_lib0.c`、`default_lib1.c` (模型程式碼)\n",
    "- CRT runtime 的 C 檔案 (runtime/src/ 底下的檔案，如 `aot_executor.c`, `crt_runtime_api.c`,` graph_executor.c`, 等，需要依據你使用 AOT Executor 的設定挑選。若不確定，就將 runtime/src/runtime/crt/ 下的相關檔案全部編進去)\n",
    "- 你的 `platform.c`（由 templates/platform.c.template 修改而來）\n",
    "- 使用 `crt_config.h`（由 templates/crt_config.h.template 修改而來），你可以將其放在當前目錄並用 -I. 讓編譯器找到\n",
    "- 提供 include 路徑給 -Icodegen/host/include、-Iruntime/include\n",
    "\n",
    "**故障排除**\n",
    "\n",
    "在 Windows 編譯過程中使用了 `__declspec(dllimport)` 導致符號預期從動態連結庫（DLL）匯入，而非在本地直接定義。\n",
    "\n",
    "在 Windows 上，如果你預期建立單一可執行檔，而不是 DLL，建議在編譯時關閉 dllimport 修飾符。\n",
    "\n",
    "你可以嘗試在編譯指令中加入定義，讓 TVM CRT 認為你在產生靜態連結的執行檔\n",
    "```sh\n",
    "-DTVM_DLL= -DTVM_CRT_STATIC_LIBRARY=1\n",
    "```\n",
    "\n",
    "**使用gcc編譯**"
   ]
  },
  {
   "cell_type": "code",
   "execution_count": 12,
   "id": "062af9a6-9261-4b26-aa24-493e84e70773",
   "metadata": {
    "tags": []
   },
   "outputs": [],
   "source": [
    "!gcc -O2 \\\n",
    "    -I./codegen/host/include \\\n",
    "    -I./runtime/include \\\n",
    "    -I. \\\n",
    "    main.c codegen/host/src/default_lib0.c codegen/host/src/default_lib1.c \\\n",
    "    runtime/src/runtime/crt/common/*.c \\\n",
    "    runtime/src/runtime/crt/aot_executor/*.c \\\n",
    "    runtime/src/runtime/crt/memory/*.c \\\n",
    "    platform.c \\\n",
    "    -lm \\\n",
    "    -o main"
   ]
  },
  {
   "cell_type": "code",
   "execution_count": 13,
   "id": "47d7802f-daf9-4dd7-b677-22e835ababe6",
   "metadata": {
    "tags": []
   },
   "outputs": [
    {
     "name": "stdout",
     "output_type": "stream",
     "text": [
      "First Inference:\n",
      "Output0: 2\n",
      "Output1: 0.000000 0.000000 1.000000\n"
     ]
    }
   ],
   "source": [
    "!./main"
   ]
  },
  {
   "cell_type": "markdown",
   "id": "ad3f6898-2c4a-4211-b544-8e5582b4af6a",
   "metadata": {
    "tags": []
   },
   "source": [
    "**使用g++編譯(量測時間版本)**\n",
    "\n",
    "如果想用 g++ 最終連結可以分兩步。首先使用 gcc 編譯 C 程式碼，g++ 僅用於連結：\n",
    "\n",
    "- 用 gcc 編譯所有 C 檔產生 .o\n",
    "- 再用 g++ 將這些 .o 與 main.cpp 連結在一起。"
   ]
  },
  {
   "cell_type": "code",
   "execution_count": 9,
   "id": "feb4dbab-4a57-431b-94c6-ab6326978acf",
   "metadata": {
    "tags": []
   },
   "outputs": [],
   "source": [
    "!gcc -O2 \\\n",
    "    -I./codegen/host/include \\\n",
    "    -I./runtime/include \\\n",
    "    -I. \\\n",
    "    -c codegen/host/src/default_lib0.c codegen/host/src/default_lib1.c \\\n",
    "    runtime/src/runtime/crt/common/*.c \\\n",
    "    runtime/src/runtime/crt/aot_executor/*.c \\\n",
    "    runtime/src/runtime/crt/memory/*.c \\\n",
    "    platform.c"
   ]
  },
  {
   "cell_type": "code",
   "execution_count": 10,
   "id": "7284d804-5c0e-4dff-8242-b3666f9095ec",
   "metadata": {
    "tags": []
   },
   "outputs": [],
   "source": [
    "!g++ -O2 *.o -lm main.cpp -I./codegen/host/include -o main -pthread\n",
    "!rm -rf *.o"
   ]
  },
  {
   "cell_type": "code",
   "execution_count": 11,
   "id": "2c7eafce-3bb2-4b90-aa74-f2b588f15077",
   "metadata": {
    "tags": []
   },
   "outputs": [
    {
     "name": "stdout",
     "output_type": "stream",
     "text": [
      "Average inference time for 3000 runs: 0.000103905 ms\n",
      "Output0 (標籤): 2\n",
      "Output1: 0.000035 0.009924 0.990042 \n"
     ]
    }
   ],
   "source": [
    "!./main"
   ]
  },
  {
   "cell_type": "markdown",
   "id": "bc13f039-5314-4b09-9489-83069fbcc0b4",
   "metadata": {},
   "source": [
    "## Reference\n",
    "\n",
    "- [後續可以嘗試用TVMC指令產生MLF](https://tvm.apache.org/docs/how_to/work_with_microtvm/micro_tvmc.html#compiling-a-tflite-model-to-a-model-library-format)"
   ]
  }
 ],
 "metadata": {
  "kernelspec": {
   "display_name": "Python 3 (ipykernel)",
   "language": "python",
   "name": "python3"
  },
  "language_info": {
   "codemirror_mode": {
    "name": "ipython",
    "version": 3
   },
   "file_extension": ".py",
   "mimetype": "text/x-python",
   "name": "python",
   "nbconvert_exporter": "python",
   "pygments_lexer": "ipython3",
   "version": "3.9.18"
  }
 },
 "nbformat": 4,
 "nbformat_minor": 5
}
