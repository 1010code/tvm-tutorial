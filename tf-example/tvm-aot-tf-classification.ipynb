{
 "cells": [
  {
   "cell_type": "markdown",
   "id": "a90e72b9-d312-4cb2-af1b-851e178f34ea",
   "metadata": {},
   "source": [
    "# microTVM Ahead-of-Time (AOT) Compilation\n",
    "本教學展示了使用 TensorFlow 模型進行 microTVM 主機驅動的 AoT 編譯，並使用 C Runtime (CRT) 在 x86 CPU 上執行。與 GraphExecutor 相比，AoTExecutor 減少了運行時解析圖的開銷。此外，我們可以使用提前編譯來實現更好的記憶體管理。\n",
    "\n",
    "**AOT Executor 的特性：**\n",
    "AOT executor 產生的 C code 會包含一組函式介面，像是 tvmgen_default_run()、tvmgen_default_set_input()、tvmgen_default_get_output() 等函式。使用者可以在一個獨立的 C 程式碼中。\n",
    "\n",
    "- 包含 model.c 或是將其編譯為物件檔後連結\n",
    "- 呼叫這些函式來設定輸入、執行推論、取得輸出\n",
    "\n",
    "同時也需要少量的 CRT runtime 支援檔案（通常是一些 platform.c/h 和 memory alloc 等簡單函式）。不過這不再是大型的 libtvm_runtime.so，而是幾個可以輕鬆整合進你專案的單檔 C 程式碼。\n",
    "\n",
    "## 1. TVM 載入 ONNX 模型\n",
    "使用 ONNX 套件載入事先預訓練好的 DNN 鳶尾花分類模型。並透過 TVM 將 ONNX 模型轉換為 Relay 模組。"
   ]
  },
  {
   "cell_type": "code",
   "execution_count": 1,
   "id": "53dda51f-afa3-4d78-bd49-7a553c1b5297",
   "metadata": {
    "tags": []
   },
   "outputs": [
    {
     "name": "stderr",
     "output_type": "stream",
     "text": [
      "[22:42:54] /home/jovyan/project/ONNX-MLIR/tvm/src/target/llvm/llvm_instance.cc:226: Error: Using LLVM 19.1.3 with `-mcpu=apple-latest` is not valid in `-mtriple=arm64-apple-macos`, using default `-mcpu=generic`\n",
      "[22:42:54] /home/jovyan/project/ONNX-MLIR/tvm/src/target/llvm/llvm_instance.cc:226: Error: Using LLVM 19.1.3 with `-mcpu=apple-latest` is not valid in `-mtriple=arm64-apple-macos`, using default `-mcpu=generic`\n",
      "[22:42:54] /home/jovyan/project/ONNX-MLIR/tvm/src/target/llvm/llvm_instance.cc:226: Error: Using LLVM 19.1.3 with `-mcpu=apple-latest` is not valid in `-mtriple=arm64-apple-macos`, using default `-mcpu=generic`\n"
     ]
    },
    {
     "ename": "FileNotFoundError",
     "evalue": "[Errno 2] No such file or directory: './isolation_forest_model.onnx'",
     "output_type": "error",
     "traceback": [
      "\u001b[0;31m---------------------------------------------------------------------------\u001b[0m",
      "\u001b[0;31mFileNotFoundError\u001b[0m                         Traceback (most recent call last)",
      "Cell \u001b[0;32mIn[1], line 6\u001b[0m\n\u001b[1;32m      3\u001b[0m \u001b[38;5;28;01mfrom\u001b[39;00m \u001b[38;5;21;01mtvm\u001b[39;00m \u001b[38;5;28;01mimport\u001b[39;00m relay\n\u001b[1;32m      5\u001b[0m \u001b[38;5;66;03m# 載入 ONNX 模型\u001b[39;00m\n\u001b[0;32m----> 6\u001b[0m onnx_model \u001b[38;5;241m=\u001b[39m \u001b[43monnx\u001b[49m\u001b[38;5;241;43m.\u001b[39;49m\u001b[43mload\u001b[49m\u001b[43m(\u001b[49m\u001b[38;5;124;43m\"\u001b[39;49m\u001b[38;5;124;43m./isolation_forest_model.onnx\u001b[39;49m\u001b[38;5;124;43m\"\u001b[39;49m\u001b[43m)\u001b[49m\n\u001b[1;32m      8\u001b[0m \u001b[38;5;66;03m# 定義輸入資訊\u001b[39;00m\n\u001b[1;32m      9\u001b[0m input_name \u001b[38;5;241m=\u001b[39m \u001b[38;5;124m'\u001b[39m\u001b[38;5;124mfloat_input\u001b[39m\u001b[38;5;124m'\u001b[39m\n",
      "File \u001b[0;32m/opt/conda/lib/python3.9/site-packages/onnx/__init__.py:169\u001b[0m, in \u001b[0;36mload_model\u001b[0;34m(f, format, load_external_data)\u001b[0m\n\u001b[1;32m    151\u001b[0m \u001b[38;5;28;01mdef\u001b[39;00m \u001b[38;5;21mload_model\u001b[39m(\n\u001b[1;32m    152\u001b[0m     f: Union[IO[\u001b[38;5;28mbytes\u001b[39m], \u001b[38;5;28mstr\u001b[39m],\n\u001b[1;32m    153\u001b[0m     \u001b[38;5;28mformat\u001b[39m: Optional[Any] \u001b[38;5;241m=\u001b[39m \u001b[38;5;28;01mNone\u001b[39;00m,  \u001b[38;5;66;03m# pylint: disable=redefined-builtin\u001b[39;00m\n\u001b[1;32m    154\u001b[0m     load_external_data: \u001b[38;5;28mbool\u001b[39m \u001b[38;5;241m=\u001b[39m \u001b[38;5;28;01mTrue\u001b[39;00m,\n\u001b[1;32m    155\u001b[0m ) \u001b[38;5;241m-\u001b[39m\u001b[38;5;241m>\u001b[39m ModelProto:\n\u001b[1;32m    156\u001b[0m \u001b[38;5;250m    \u001b[39m\u001b[38;5;124;03m\"\"\"Loads a serialized ModelProto into memory.\u001b[39;00m\n\u001b[1;32m    157\u001b[0m \n\u001b[1;32m    158\u001b[0m \u001b[38;5;124;03m    Args:\u001b[39;00m\n\u001b[0;32m   (...)\u001b[0m\n\u001b[1;32m    167\u001b[0m \u001b[38;5;124;03m        Loaded in-memory ModelProto.\u001b[39;00m\n\u001b[1;32m    168\u001b[0m \u001b[38;5;124;03m    \"\"\"\u001b[39;00m\n\u001b[0;32m--> 169\u001b[0m     s \u001b[38;5;241m=\u001b[39m \u001b[43m_load_bytes\u001b[49m\u001b[43m(\u001b[49m\u001b[43mf\u001b[49m\u001b[43m)\u001b[49m\n\u001b[1;32m    170\u001b[0m     model \u001b[38;5;241m=\u001b[39m load_model_from_string(s, \u001b[38;5;28mformat\u001b[39m\u001b[38;5;241m=\u001b[39m\u001b[38;5;28mformat\u001b[39m)\n\u001b[1;32m    172\u001b[0m     \u001b[38;5;28;01mif\u001b[39;00m load_external_data:\n",
      "File \u001b[0;32m/opt/conda/lib/python3.9/site-packages/onnx/__init__.py:73\u001b[0m, in \u001b[0;36m_load_bytes\u001b[0;34m(f)\u001b[0m\n\u001b[1;32m     71\u001b[0m     content \u001b[38;5;241m=\u001b[39m typing\u001b[38;5;241m.\u001b[39mcast(IO[\u001b[38;5;28mbytes\u001b[39m], f)\u001b[38;5;241m.\u001b[39mread()\n\u001b[1;32m     72\u001b[0m \u001b[38;5;28;01melse\u001b[39;00m:\n\u001b[0;32m---> 73\u001b[0m     \u001b[38;5;28;01mwith\u001b[39;00m \u001b[38;5;28;43mopen\u001b[39;49m\u001b[43m(\u001b[49m\u001b[43mtyping\u001b[49m\u001b[38;5;241;43m.\u001b[39;49m\u001b[43mcast\u001b[49m\u001b[43m(\u001b[49m\u001b[38;5;28;43mstr\u001b[39;49m\u001b[43m,\u001b[49m\u001b[43m \u001b[49m\u001b[43mf\u001b[49m\u001b[43m)\u001b[49m\u001b[43m,\u001b[49m\u001b[43m \u001b[49m\u001b[38;5;124;43m\"\u001b[39;49m\u001b[38;5;124;43mrb\u001b[39;49m\u001b[38;5;124;43m\"\u001b[39;49m\u001b[43m)\u001b[49m \u001b[38;5;28;01mas\u001b[39;00m readable:\n\u001b[1;32m     74\u001b[0m         content \u001b[38;5;241m=\u001b[39m readable\u001b[38;5;241m.\u001b[39mread()\n\u001b[1;32m     75\u001b[0m \u001b[38;5;28;01mreturn\u001b[39;00m content\n",
      "\u001b[0;31mFileNotFoundError\u001b[0m: [Errno 2] No such file or directory: './isolation_forest_model.onnx'"
     ]
    }
   ],
   "source": [
    "import onnx\n",
    "import tvm\n",
    "from tvm import relay\n",
    "\n",
    "# 載入 ONNX 模型\n",
    "onnx_model = onnx.load(\"./deploy_model.onnx\")\n",
    "\n",
    "# 定義輸入資訊\n",
    "input_name = 'float_input'\n",
    "shape_dict = {input_name: (1, 4)}\n",
    "\n",
    "# 將 ONNX 模型轉換為 Relay 模組\n",
    "mod, params = relay.frontend.from_onnx(onnx_model, shape_dict)"
   ]
  },
  {
   "cell_type": "code",
   "execution_count": 47,
   "id": "10feecec-e637-4717-bf07-a1c7c335c7a5",
   "metadata": {
    "tags": []
   },
   "outputs": [],
   "source": [
    "import onnx\n",
    "from onnx import helper, numpy_helper\n",
    "\n",
    "onnx_model = onnx.load(\"deploy_model.onnx\")\n",
    "graph = onnx_model.graph\n",
    "\n",
    "# 使用倒序迴圈，避免刪除節點影響後續索引\n",
    "for i in reversed(range(len(graph.node))):\n",
    "    node = graph.node[i]\n",
    "    if node.op_type == \"Abs\":\n",
    "        input_name = node.input[0]\n",
    "        output_name = node.output[0]\n",
    "\n",
    "        # 建立 Mul 節點\n",
    "        mul_node = helper.make_node(\n",
    "            \"Mul\",\n",
    "            inputs=[input_name, input_name],\n",
    "            outputs=[input_name + \"_squared\"],\n",
    "            name=node.name + \"_mul\" if node.name else \"mul_\" + str(i)\n",
    "        )\n",
    "\n",
    "        # 建立 Sqrt 節點\n",
    "        sqrt_node = helper.make_node(\n",
    "            \"Sqrt\",\n",
    "            inputs=[input_name + \"_squared\"],\n",
    "            outputs=[output_name],\n",
    "            name=node.name + \"_sqrt\" if node.name else \"sqrt_\" + str(i)\n",
    "        )\n",
    "\n",
    "        # 將新節點插入到原 Abs 節點的位置\n",
    "        graph.node.insert(i, sqrt_node)\n",
    "        graph.node.insert(i, mul_node)\n",
    "\n",
    "        # 刪除原 Abs 節點\n",
    "        graph.node.pop(i + 2)  # 注意索引變化\n",
    "\n",
    "onnx.checker.check_model(onnx_model)\n",
    "onnx.save(onnx_model, \"modified_model.onnx\")"
   ]
  },
  {
   "cell_type": "markdown",
   "id": "a8bf5374-a720-4547-8213-8cf4716499f9",
   "metadata": {},
   "source": [
    "## 2. 使用 AOT Executor 與 C Runtime\n",
    "如果希望生成一份不依賴 `libtvm_runtime.so` 的純 C 原始碼來進行推論，可以考慮使用 TVM 的 AOT (Ahead-of-Time) Executor 搭配 \"crt\" (C runtime)。這種組合會產生一組相對獨立的 C 程式碼，並且執行階段環境較為簡化，不需要額外動態連結到 TVM 的 runtime shared library。\n",
    "\n",
    "在進行 TVM 編譯時，可以指定 AOT Executor 和 CRT Runtime，並啟用 `link-params`，讓模型參數直接嵌入程式碼內，免去額外的參數檔案。此外，在建立 AOT Executor 時，透過將 `interface-api` 設定為 `c` 以及將 `unpacked-api` 設定為 `True`，可以要求 TVM 生成一套清晰的 C 函式介面以及對應的標頭檔案，方便外部呼叫與整合。\n",
    "\n",
    "需要注意的是，在 CodeGen 階段通常會啟用向量化優化，這可能導致生成的程式碼包含 GCC 或 Clang 特定的向量語法，例如 float3、float5 的向量型態初始化，這些屬於非標準 C 語法。為了解決這個問題，可以在 PassContext 中禁用向量化的設定 `tir.disable_vectorize`，這樣生成的程式碼就不會包含類似 float3、float5 的向量初始化。"
   ]
  },
  {
   "cell_type": "code",
   "execution_count": null,
   "id": "50fc6c7f-a492-40cb-b9cd-45b8844cc304",
   "metadata": {},
   "outputs": [],
   "source": [
    "from tvm.relay.backend import Executor, Runtime\n",
    "\n",
    "executor = Executor(\"aot\", {\n",
    "    \"interface-api\": \"c\",    # 使用 C 接口而非 packed\n",
    "    \"unpacked-api\": True,    # 使用 unpacked 函式簽章（參數直接用 C 函式參數方式傳遞）\n",
    "    \"link-params\": True      # 將參數嵌入程式中\n",
    "})\n",
    "runtime = Runtime(\"crt\")\n",
    "# runtime = Runtime(\"crt\", {\"system-lib\": True})\n",
    "# 設定目標為嵌入式設備，使用 MicroTVM\n",
    "target = \"c\"\n",
    "# target = tvm.target.target.micro(\"host\")\n",
    "\n",
    "with tvm.transform.PassContext(opt_level=0, config={\"tir.disable_vectorize\": True}):\n",
    "    lib = relay.build(mod, target=target, runtime=runtime, executor=executor, params=params)"
   ]
  },
  {
   "cell_type": "markdown",
   "id": "08fae5f6-7e99-416d-904a-d8964c580cf9",
   "metadata": {},
   "source": [
    "如此產生的 AOT 程式碼會對應生成更容易使用的 C 接口函式。\n",
    "> 上述 link-params=True 會將參數直接打包進產生的 C 程式碼中。如此一來，你就不需要另外載入 params.bin。\n",
    "\n",
    "## 3. 使用 MLF 格式匯出\n",
    "microTVM 的相關功能，這個函式會將模型以 MLF 格式輸出。然後你解壓縮 model.tar 就能看到 .h 檔等檔案。"
   ]
  },
  {
   "cell_type": "code",
   "execution_count": 3,
   "id": "4c4a768b-f58d-46d3-b051-f884106a5dc8",
   "metadata": {
    "tags": []
   },
   "outputs": [
    {
     "data": {
      "text/plain": [
       "PosixPath('model.tar')"
      ]
     },
     "execution_count": 3,
     "metadata": {},
     "output_type": "execute_result"
    }
   ],
   "source": [
    "from tvm.micro import export_model_library_format\n",
    "export_model_library_format(lib, \"model.tar\")"
   ]
  },
  {
   "cell_type": "markdown",
   "id": "2c7cb933-1d04-4316-abba-3b1a0bea8f3a",
   "metadata": {},
   "source": [
    "## 4. C 實作前置作業\n",
    "### 4.1 解壓縮 MLF\n",
    "將 model.tar 解壓縮後，你會看到很多的資料夾與檔案。展開後的結構大致會包含：\n",
    "- codegen/host/include/tvmgen_default.h：你的模型函式介面(header檔)\n",
    "- codegen/host/src/default_lib0.c、default_lib1.c：模型核心計算程式碼\n",
    "- runtime/：TVM CRT (C Runtime) 所需的原始碼和標頭檔案\n",
    "- parameters/default.params：模型的參數 (如果沒有 link-params=true 時會需要)"
   ]
  },
  {
   "cell_type": "code",
   "execution_count": null,
   "id": "d87eb235-480f-45cb-ba1e-984f818ff1e3",
   "metadata": {
    "tags": []
   },
   "outputs": [],
   "source": [
    "!rm -rf build_logistic\n",
    "!mkdir build_logistic\n",
    "!tar xvf model.tar -C build_logistic\n",
    "%cd build_logistic"
   ]
  },
  {
   "cell_type": "markdown",
   "id": "ef0d7785-3063-4dae-b3a7-236337f10bdf",
   "metadata": {},
   "source": [
    "### 4.2 實作基本的記憶體配置\n",
    "建立 `crt_config.h` 與 `platform.c`。從 templates/crt_config.h.template 和 templates/platform.c.template 複製修改而得。"
   ]
  },
  {
   "cell_type": "code",
   "execution_count": 5,
   "id": "bd14a7b6-9e94-49b9-9b7c-4165838daf92",
   "metadata": {
    "tags": []
   },
   "outputs": [
    {
     "data": {
      "text/plain": [
       "['crt_config.h', 'platform.c']"
      ]
     },
     "execution_count": 5,
     "metadata": {},
     "output_type": "execute_result"
    }
   ],
   "source": [
    "import shutil\n",
    "import os\n",
    "\n",
    "# 檔案來源與目標目錄\n",
    "template_dir = \"templates\"\n",
    "target_dir = \".\"\n",
    "\n",
    "# 檔案名稱\n",
    "files_to_copy = {\n",
    "    \"crt_config.h.template\": \"crt_config.h\",\n",
    "    \"platform.c.template\": \"platform.c\"\n",
    "}\n",
    "\n",
    "# 確保模板目錄存在\n",
    "if not os.path.exists(template_dir):\n",
    "    raise FileNotFoundError(f\"模板目錄 '{template_dir}' 不存在，請確認目錄結構。\")\n",
    "\n",
    "# 複製檔案\n",
    "for template_file, target_file in files_to_copy.items():\n",
    "    source_path = os.path.join(template_dir, template_file)\n",
    "    target_path = os.path.join(target_dir, target_file)\n",
    "\n",
    "    if not os.path.exists(source_path):\n",
    "        raise FileNotFoundError(f\"模板檔案 '{source_path}' 不存在，請確認。\")\n",
    "\n",
    "    shutil.copy(source_path, target_path)\n",
    "\n",
    "# 檢查目標檔案是否已成功建立\n",
    "created_files = [file for file in files_to_copy.values() if os.path.exists(file)]\n",
    "created_files"
   ]
  },
  {
   "cell_type": "markdown",
   "id": "14435197-ce33-427d-8790-c6c367b6edc5",
   "metadata": {},
   "source": [
    "TVMLogf 和 TVMSystemLibEntryPoint 是 TVM CRT runtime 中預期的函式實作，通常需要在 `platform.c` 提供對應的實作。\n",
    "\n",
    "這段程式碼的功能是自動檢查 `platform.c` 是否存在，然後在檔案中新增所需的定義（引入標頭檔案與設定工作區大小）和兩個函式（用於日誌輸出與模型執行的進入點），確保內容只新增一次並正確插入，最後保存修改結果。\n",
    "\n",
    "- 在 `platform.c` 引入定義的變數並宣告 TVM_WORKSPACE_SIZE_BYTES 的大小。\n",
    "- 在 platform.c 中定義 TVMSystemLibEntryPoint 和 TVMLogf\n",
    "\n",
    "**實作 TVMLogf 函式**\n",
    "\n",
    "TVM CRT 預設需要一個 TVMLogf 函式來輸出日誌（log）。你需要在自己的 platform.c 中自行實作此函式。\n",
    "\n",
    "```c\n",
    "void TVMLogf(const char* msg, ...) {\n",
    "    va_list args;\n",
    "    va_start(args, msg);\n",
    "    vfprintf(stderr, msg, args);\n",
    "    va_end(args);\n",
    "}\n",
    "```\n",
    "\n",
    "這是一個簡單的實作，只是把 log 輸出到 stderr。\n",
    "\n",
    "**實作 TVMSystemLibEntryPoint 函式**\n",
    "\n",
    "這個符號通常在使用 system-lib 的情境下會被需要。\n",
    "如果你的程式中需要 TVMSystemLibEntryPoint，你可以在 platform.c 或另一個 c 檔案中給它一個空實作，避免 undefined reference。通常它是用來載入 system-lib 的註冊入口。\n",
    "\n",
    "```c\n",
    "extern void* tvmgen_default___tvm_main__;\n",
    "\n",
    "void* TVMSystemLibEntryPoint(void) {\n",
    "  return &tvmgen_default___tvm_main__;\n",
    "}\n",
    "```"
   ]
  },
  {
   "cell_type": "code",
   "execution_count": 6,
   "id": "7fb38a23-a5ca-41f6-93d7-ba7a082a8ad8",
   "metadata": {
    "tags": []
   },
   "outputs": [
    {
     "data": {
      "text/plain": [
       "['    va_start(args, msg);\\n',\n",
       " '    vfprintf(stderr, msg, args);\\n',\n",
       " '    va_end(args);\\n',\n",
       " '}\\n',\n",
       " '\\n',\n",
       " 'extern void* tvmgen_default___tvm_main__;\\n',\n",
       " '\\n',\n",
       " 'void* TVMSystemLibEntryPoint(void) {\\n',\n",
       " '  return &tvmgen_default___tvm_main__;\\n',\n",
       " '}\\n']"
      ]
     },
     "execution_count": 6,
     "metadata": {},
     "output_type": "execute_result"
    }
   ],
   "source": [
    "# 定義目標檔案名稱\n",
    "platform_file = \"platform.c\"\n",
    "\n",
    "# 檢查檔案是否存在\n",
    "import os\n",
    "\n",
    "if not os.path.exists(platform_file):\n",
    "    raise FileNotFoundError(f\"檔案 '{platform_file}' 不存在，請確認檔案名稱和目錄。\")\n",
    "\n",
    "# 新增的定義\n",
    "new_define = \"#include \\\"tvmgen_default.h\\\"\\n#define TVM_WORKSPACE_SIZE_BYTES TVMGEN_DEFAULT_WORKSPACE_SIZE\\n\"\n",
    "\n",
    "# 讀取原始檔案內容\n",
    "with open(platform_file, \"r\") as file:\n",
    "    lines = file.readlines()\n",
    "\n",
    "# 確保定義只新增一次\n",
    "if new_define not in lines:\n",
    "    # 將定義新增到檔案開頭（通常是放在 include 後面）\n",
    "    for i, line in enumerate(lines):\n",
    "        if line.startswith(\"#include\"):\n",
    "            insertion_index = i + 1\n",
    "            break\n",
    "    else:\n",
    "        insertion_index = 0  # 如果沒有 include，則放在檔案最開頭\n",
    "\n",
    "    lines.insert(insertion_index, new_define)\n",
    "\n",
    "# 定義要新增的函式內容\n",
    "additional_functions = \"\"\"\n",
    "void TVMLogf(const char* msg, ...) {\n",
    "    va_list args;\n",
    "    va_start(args, msg);\n",
    "    vfprintf(stderr, msg, args);\n",
    "    va_end(args);\n",
    "}\n",
    "\n",
    "extern void* tvmgen_default___tvm_main__;\n",
    "\n",
    "void* TVMSystemLibEntryPoint(void) {\n",
    "  return &tvmgen_default___tvm_main__;\n",
    "}\n",
    "\"\"\"\n",
    "\n",
    "# 確保函式只新增一次\n",
    "if additional_functions.strip() not in \"\".join(lines):\n",
    "    # 將函式新增到檔案結尾\n",
    "    lines.append(\"\\n\")  # 確保前面有換行\n",
    "    lines.append(additional_functions)\n",
    "\n",
    "# 寫回檔案\n",
    "with open(platform_file, \"w\") as file:\n",
    "    file.writelines(lines)\n",
    "\n",
    "# 確認檔案已更新\n",
    "with open(platform_file, \"r\") as file:\n",
    "    updated_content = file.readlines()\n",
    "\n",
    "updated_content[-10:]  # 顯示最後幾行，確認修改結果\n"
   ]
  },
  {
   "cell_type": "markdown",
   "id": "50124092-0b3f-469b-ba98-25dbac301bdf",
   "metadata": {},
   "source": [
    "## 5. C 推論實作\n",
    "將這些檔案組裝成一個可在C原生環境下直接執行推論的程式。\n",
    "\n",
    "### 5.1 準備必要檔案\n",
    "- `tvmgen_default.h`：已經在 codegen/host/include/ 下。\n",
    "- 模型程式碼：`default_lib0.c`、`default_lib1.c` (在 codegen/host/src/ 下)\n",
    "- TVM CRT Runtime 原始碼：在 runtime/src/ 有多個子目錄。\n",
    "- CRT 必要標頭：在 runtime/include/ 下\n",
    "- `crt_config.h` 與 `platform.c`：可由 templates/crt_config.h.template 和 templates/platform.c.template 複製修改而得。你需要提供一個 `crt_config.h` 設定檔案以及一個最小化的 `platform.c` 去實作基本的記憶體配置。\n",
    "\n",
    "### 5.2 撰寫 main.c（使用AOT介面進行推論）\n",
    "當前擁有的資料夾結構是 microTVM 的 MLF 輸出，其內含完整的 model C code、header檔、以及 TVM CRT 的程式碼。透過：\n",
    "\n",
    "1. 準備 main.c，包含 tvmgen_default.h 並呼叫模型執行函式\n",
    "2. 編譯所有必要的 C 檔案及 runtime 原始碼\n",
    "3. 提供 crt_config.h 與 platform.c（可從 templates 修改）\n",
    "\n",
    "就能成功產生一個可獨立運行的 C 執行檔，直接進行推論而不依賴外部的 libtvm_runtime.so。\n",
    "\n",
    "目前已經有了 `tvmgen_default.h`，可以撰寫一個 `main.c` 來呼叫 AOT 產生的函式介面。範例（以鳶尾花模型為例，假設輸入 shape=(1,4)，輸出 shape=(1,3)）："
   ]
  },
  {
   "cell_type": "code",
   "execution_count": null,
   "id": "cd5992d2-a549-4faa-a316-1c3ac423b40c",
   "metadata": {
    "tags": []
   },
   "outputs": [],
   "source": [
    "#include <stdio.h>\n",
    "#include \"tvmgen_default.h\"\n",
    "\n",
    "int main() {\n",
    "    // 準備輸入及輸出資料\n",
    "    float input_data[4] = {5.1f, 3.5f, 1.4f, 0.2f};\n",
    "    float output_data[3];\n",
    "\n",
    "    struct tvmgen_default_inputs inputs = {\n",
    "        .float_input = input_data\n",
    "    };\n",
    "\n",
    "    struct tvmgen_default_outputs outputs = {\n",
    "        .output = output_data\n",
    "    };\n",
    "\n",
    "    // 呼叫 run 函式，將 inputs & outputs 當作參數傳入\n",
    "    int32_t ret = tvmgen_default_run(&inputs, &outputs);\n",
    "    if (ret != 0) {\n",
    "        printf(\"tvmgen_default_run failed with code %d\\n\", ret);\n",
    "        return -1;\n",
    "    }\n",
    "\n",
    "    printf(\"Output: %f %f %f\\n\", output_data[0], output_data[1], output_data[2]);\n",
    "    return 0;\n",
    "}"
   ]
  },
  {
   "cell_type": "markdown",
   "id": "9ce9de40-3e6b-4aee-bd72-e7e441a96230",
   "metadata": {},
   "source": [
    "### 5.3 編譯整合\n",
    "你需要將下列檔案一起編譯並連結：\n",
    "\n",
    "- `main.c` (你自己寫的)\n",
    "- `codegen/host/src/default_lib0.c`、`default_lib1.c` (模型程式碼)\n",
    "- CRT runtime 的 C 檔案 (runtime/src/ 底下的檔案，如 `aot_executor.c`, `crt_runtime_api.c`,` graph_executor.c`, 等，需要依據你使用 AOT Executor 的設定挑選。若不確定，就將 runtime/src/runtime/crt/ 下的相關檔案全部編進去)\n",
    "- 你的 `platform.c`（由 templates/platform.c.template 修改而來）\n",
    "- 使用 `crt_config.h`（由 templates/crt_config.h.template 修改而來），你可以將其放在當前目錄並用 -I. 讓編譯器找到\n",
    "- 提供 include 路徑給 -Icodegen/host/include、-Iruntime/include\n",
    "\n",
    "**故障排除**\n",
    "\n",
    "在 Windows 編譯過程中使用了 `__declspec(dllimport)` 導致符號預期從動態連結庫（DLL）匯入，而非在本地直接定義。\n",
    "\n",
    "在 Windows 上，如果你預期建立單一可執行檔，而不是 DLL，建議在編譯時關閉 dllimport 修飾符。\n",
    "\n",
    "你可以嘗試在編譯指令中加入定義，讓 TVM CRT 認為你在產生靜態連結的執行檔\n",
    "```sh\n",
    "-DTVM_DLL= -DTVM_CRT_STATIC_LIBRARY=1\n",
    "```"
   ]
  },
  {
   "cell_type": "code",
   "execution_count": 2,
   "id": "009b2e57-c5ca-4d33-ba5e-b9b09b8281f3",
   "metadata": {
    "tags": []
   },
   "outputs": [
    {
     "name": "stdout",
     "output_type": "stream",
     "text": [
      "/home/jovyan/project/ONNX-MLIR/tvm-tutorial/tf-example/build_test\n"
     ]
    }
   ],
   "source": [
    "%cd build_test"
   ]
  },
  {
   "cell_type": "code",
   "execution_count": 8,
   "id": "062af9a6-9261-4b26-aa24-493e84e70773",
   "metadata": {
    "tags": []
   },
   "outputs": [],
   "source": [
    "!gcc -O2 \\\n",
    "    -I./codegen/host/include \\\n",
    "    -I./runtime/include \\\n",
    "    -I. \\\n",
    "    main.c codegen/host/src/default_lib0.c codegen/host/src/default_lib1.c \\\n",
    "    runtime/src/runtime/crt/common/*.c \\\n",
    "    runtime/src/runtime/crt/aot_executor/*.c \\\n",
    "    runtime/src/runtime/crt/memory/*.c \\\n",
    "    platform.c \\\n",
    "    -lm \\\n",
    "    -o main"
   ]
  },
  {
   "cell_type": "code",
   "execution_count": 13,
   "id": "feb4dbab-4a57-431b-94c6-ab6326978acf",
   "metadata": {
    "tags": []
   },
   "outputs": [],
   "source": [
    "!gcc -O2 \\\n",
    "    -I./codegen/host/include \\\n",
    "    -I./runtime/include \\\n",
    "    -I. \\\n",
    "    -c codegen/host/src/default_lib0.c codegen/host/src/default_lib1.c \\\n",
    "    runtime/src/runtime/crt/common/*.c \\\n",
    "    runtime/src/runtime/crt/aot_executor/*.c \\\n",
    "    runtime/src/runtime/crt/memory/*.c \\\n",
    "    platform.c"
   ]
  },
  {
   "cell_type": "code",
   "execution_count": 14,
   "id": "7284d804-5c0e-4dff-8242-b3666f9095ec",
   "metadata": {
    "tags": []
   },
   "outputs": [],
   "source": [
    "!g++ -O2 *.o -lm main.cpp -I./codegen/host/include -o main -pthread"
   ]
  },
  {
   "cell_type": "code",
   "execution_count": 93,
   "id": "18942452-2dfe-44f3-8966-42852f222269",
   "metadata": {
    "tags": []
   },
   "outputs": [],
   "source": [
    "!rm -rf main"
   ]
  },
  {
   "cell_type": "code",
   "execution_count": 16,
   "id": "2c7eafce-3bb2-4b90-aa74-f2b588f15077",
   "metadata": {
    "tags": []
   },
   "outputs": [
    {
     "name": "stdout",
     "output_type": "stream",
     "text": [
      "Average inference time for 3000 runs: 0.000100609 ms\n",
      "Output0 (標籤): 2\n",
      "Output1: 0.000035 0.009924 0.990042 \n"
     ]
    }
   ],
   "source": [
    "!./main"
   ]
  },
  {
   "cell_type": "code",
   "execution_count": 150,
   "id": "31aa3296-04bc-426f-88df-1a6287c3776e",
   "metadata": {
    "tags": []
   },
   "outputs": [
    {
     "name": "stdout",
     "output_type": "stream",
     "text": [
      "/home/jovyan/project/ONNX-MLIR/tvm-tutorial/tf-example\n",
      "./build_test/\n",
      "./build_test/templates/\n",
      "./build_test/templates/platform.c.template\n",
      "./build_test/templates/crt_config.h.template\n",
      "./build_test/main.cpp\n",
      "./build_test/runtime/\n",
      "./build_test/runtime/CMakeLists.txt\n",
      "./build_test/runtime/src/\n",
      "./build_test/runtime/src/runtime/\n",
      "./build_test/runtime/src/runtime/minrpc/\n",
      "./build_test/runtime/src/runtime/minrpc/rpc_reference.h\n",
      "./build_test/runtime/src/runtime/minrpc/minrpc_server.h\n",
      "./build_test/runtime/src/runtime/minrpc/minrpc_server_logging.h\n",
      "./build_test/runtime/src/runtime/minrpc/minrpc_logger.h\n",
      "./build_test/runtime/src/runtime/minrpc/minrpc_interfaces.h\n",
      "./build_test/runtime/src/runtime/crt/\n",
      "./build_test/runtime/src/runtime/crt/memory/\n",
      "./build_test/runtime/src/runtime/crt/memory/stack_allocator.c\n",
      "./build_test/runtime/src/runtime/crt/memory/page_allocator.c\n",
      "./build_test/runtime/src/runtime/crt/aot_executor_module/\n",
      "./build_test/runtime/src/runtime/crt/aot_executor_module/aot_executor_module.c\n",
      "./build_test/runtime/src/runtime/crt/graph_executor_module/\n",
      "./build_test/runtime/src/runtime/crt/graph_executor_module/graph_executor_module.c\n",
      "./build_test/runtime/src/runtime/crt/microtvm_rpc_server/\n",
      "./build_test/runtime/src/runtime/crt/microtvm_rpc_server/rpc_server.cc\n",
      "./build_test/runtime/src/runtime/crt/tab/\n",
      "./build_test/runtime/src/runtime/crt/tab/gentab_ccitt.inc\n",
      "./build_test/runtime/src/runtime/crt/common/\n",
      "./build_test/runtime/src/runtime/crt/common/packed_func.c\n",
      "./build_test/runtime/src/runtime/crt/common/ndarray.c\n",
      "./build_test/runtime/src/runtime/crt/common/crt_runtime_api.c\n",
      "./build_test/runtime/src/runtime/crt/common/crt_backend_api.c\n",
      "./build_test/runtime/src/runtime/crt/common/func_registry.c\n",
      "./build_test/runtime/src/runtime/crt/aot_executor/\n",
      "./build_test/runtime/src/runtime/crt/aot_executor/aot_executor.c\n",
      "./build_test/runtime/src/runtime/crt/graph_executor/\n",
      "./build_test/runtime/src/runtime/crt/graph_executor/graph_executor.c\n",
      "./build_test/runtime/src/runtime/crt/graph_executor/load_json.c\n",
      "./build_test/runtime/src/runtime/crt/microtvm_rpc_common/\n",
      "./build_test/runtime/src/runtime/crt/microtvm_rpc_common/write_stream.cc\n",
      "./build_test/runtime/src/runtime/crt/microtvm_rpc_common/framing.cc\n",
      "./build_test/runtime/src/runtime/crt/microtvm_rpc_common/session.cc\n",
      "./build_test/runtime/src/runtime/crt/microtvm_rpc_common/frame_buffer.cc\n",
      "./build_test/runtime/src/runtime/crt/microtvm_rpc_common/crcccitt.c\n",
      "./build_test/runtime/src/support/\n",
      "./build_test/runtime/src/support/generic_arena.h\n",
      "./build_test/runtime/src/support/ssize.h\n",
      "./build_test/runtime/include/\n",
      "./build_test/runtime/include/checksum.h\n",
      "./build_test/runtime/include/dmlc/\n",
      "./build_test/runtime/include/dmlc/lua.h\n",
      "./build_test/runtime/include/dmlc/endian.h\n",
      "./build_test/runtime/include/dmlc/input_split_shuffle.h\n",
      "./build_test/runtime/include/dmlc/logging.h\n",
      "./build_test/runtime/include/dmlc/array_view.h\n",
      "./build_test/runtime/include/dmlc/strtonum.h\n",
      "./build_test/runtime/include/dmlc/omp.h\n",
      "./build_test/runtime/include/dmlc/filesystem.h\n",
      "./build_test/runtime/include/dmlc/base.h\n",
      "./build_test/runtime/include/dmlc/timer.h\n",
      "./build_test/runtime/include/dmlc/io.h\n",
      "./build_test/runtime/include/dmlc/serializer.h\n",
      "./build_test/runtime/include/dmlc/config.h\n",
      "./build_test/runtime/include/dmlc/threadediter.h\n",
      "./build_test/runtime/include/dmlc/recordio.h\n",
      "./build_test/runtime/include/dmlc/thread_group.h\n",
      "./build_test/runtime/include/dmlc/thread_local.h\n",
      "./build_test/runtime/include/dmlc/registry.h\n",
      "./build_test/runtime/include/dmlc/type_traits.h\n",
      "./build_test/runtime/include/dmlc/concurrency.h\n",
      "./build_test/runtime/include/dmlc/data.h\n",
      "./build_test/runtime/include/dmlc/optional.h\n",
      "./build_test/runtime/include/dmlc/json.h\n",
      "./build_test/runtime/include/dmlc/any.h\n",
      "./build_test/runtime/include/dmlc/memory.h\n",
      "./build_test/runtime/include/dmlc/common.h\n",
      "./build_test/runtime/include/dmlc/parameter.h\n",
      "./build_test/runtime/include/dmlc/memory_io.h\n",
      "./build_test/runtime/include/dmlc/blockingconcurrentqueue.h\n",
      "./build_test/runtime/include/dmlc/concurrentqueue.h\n",
      "./build_test/runtime/include/dmlc/build_config_default.h\n",
      "./build_test/runtime/include/tvm/\n",
      "./build_test/runtime/include/tvm/runtime/\n",
      "./build_test/runtime/include/tvm/runtime/metadata_types.h\n",
      "./build_test/runtime/include/tvm/runtime/c_backend_api.h\n",
      "./build_test/runtime/include/tvm/runtime/c_runtime_api.h\n",
      "./build_test/runtime/include/tvm/runtime/crt/\n",
      "./build_test/runtime/include/tvm/runtime/crt/logging.h\n",
      "./build_test/runtime/include/tvm/runtime/crt/graph_executor_module.h\n",
      "./build_test/runtime/include/tvm/runtime/crt/page_allocator.h\n",
      "./build_test/runtime/include/tvm/runtime/crt/func_registry.h\n",
      "./build_test/runtime/include/tvm/runtime/crt/internal/\n",
      "./build_test/runtime/include/tvm/runtime/crt/internal/memory/\n",
      "./build_test/runtime/include/tvm/runtime/crt/internal/memory/page_allocator.h\n",
      "./build_test/runtime/include/tvm/runtime/crt/internal/common/\n",
      "./build_test/runtime/include/tvm/runtime/crt/internal/common/func_registry.h\n",
      "./build_test/runtime/include/tvm/runtime/crt/internal/common/ndarray.h\n",
      "./build_test/runtime/include/tvm/runtime/crt/internal/graph_executor/\n",
      "./build_test/runtime/include/tvm/runtime/crt/internal/graph_executor/load_json.h\n",
      "./build_test/runtime/include/tvm/runtime/crt/internal/graph_executor/graph_executor.h\n",
      "./build_test/runtime/include/tvm/runtime/crt/packed_func.h\n",
      "./build_test/runtime/include/tvm/runtime/crt/crt.h\n",
      "./build_test/runtime/include/tvm/runtime/crt/rpc_common/\n",
      "./build_test/runtime/include/tvm/runtime/crt/rpc_common/framing.h\n",
      "./build_test/runtime/include/tvm/runtime/crt/rpc_common/session.h\n",
      "./build_test/runtime/include/tvm/runtime/crt/rpc_common/frame_buffer.h\n",
      "./build_test/runtime/include/tvm/runtime/crt/rpc_common/write_stream.h\n",
      "./build_test/runtime/include/tvm/runtime/crt/aot_executor_module.h\n",
      "./build_test/runtime/include/tvm/runtime/crt/platform.h\n",
      "./build_test/runtime/include/tvm/runtime/crt/error_codes.h\n",
      "./build_test/runtime/include/tvm/runtime/crt/microtvm_rpc_server.h\n",
      "./build_test/runtime/include/tvm/runtime/crt/stack_allocator.h\n",
      "./build_test/runtime/include/tvm/runtime/crt/aot_executor.h\n",
      "./build_test/runtime/include/tvm/runtime/crt/module.h\n",
      "./build_test/runtime/include/tvm/runtime/crt/graph_executor.h\n",
      "./build_test/runtime/include/dlpack/\n",
      "./build_test/runtime/include/dlpack/dlpack.h\n",
      "./build_test/metadata.json\n",
      "./build_test/main.c\n",
      "./build_test/platform.c\n",
      "./build_test/parameters/\n",
      "./build_test/parameters/default.params\n",
      "./build_test/main\n",
      "./build_test/codegen/\n",
      "./build_test/codegen/host/\n",
      "./build_test/codegen/host/src/\n",
      "./build_test/codegen/host/src/default_lib0.c\n",
      "./build_test/codegen/host/src/default_lib1.c\n",
      "./build_test/codegen/host/include/\n",
      "./build_test/codegen/host/include/tvmgen_default.h\n",
      "./build_test/codegen/host/include/.ipynb_checkpoints/\n",
      "./build_test/codegen/host/include/.ipynb_checkpoints/tvmgen_default-checkpoint.h\n",
      "./build_test/.ipynb_checkpoints/\n",
      "./build_test/.ipynb_checkpoints/main-checkpoint.c\n",
      "./build_test/.ipynb_checkpoints/main-checkpoint.cpp\n",
      "./build_test/.ipynb_checkpoints/README-checkpoint.md\n",
      "./build_test/crt_config.h\n",
      "./build_test/src/\n",
      "./build_test/src/default.relay\n",
      "./build_test/README.md\n"
     ]
    }
   ],
   "source": [
    "%cd ../\n",
    "!tar -cvf ./build_test.tar ./build_test"
   ]
  },
  {
   "cell_type": "markdown",
   "id": "bc13f039-5314-4b09-9489-83069fbcc0b4",
   "metadata": {},
   "source": [
    "## Reference\n",
    "\n",
    "- [後續可以嘗試用TVMC指令產生MLF](https://tvm.apache.org/docs/how_to/work_with_microtvm/micro_tvmc.html#compiling-a-tflite-model-to-a-model-library-format)"
   ]
  },
  {
   "cell_type": "markdown",
   "id": "c4ba4338-b085-479f-9f6c-01a9108ee93d",
   "metadata": {},
   "source": [
    "## Debug用"
   ]
  },
  {
   "cell_type": "code",
   "execution_count": null,
   "id": "2d6ea304-6847-4026-b25b-b9b0ab228240",
   "metadata": {},
   "outputs": [],
   "source": [
    "import onnx\n",
    "import tvm\n",
    "from tvm import relay\n",
    "\n",
    "# 載入 ONNX 模型\n",
    "onnx_model = onnx.load(\"./tf_model.onnx\")\n",
    "\n",
    "# 定義輸入資訊\n",
    "input_name = 'float_input'\n",
    "shape_dict = {input_name: (1, 4)}\n",
    "\n",
    "# 將 ONNX 模型轉換為 Relay 模組\n",
    "mod, params = relay.frontend.from_onnx(onnx_model, shape_dict)\n",
    "\n",
    "from tvm import relay\n",
    "from tvm.relay.backend import Executor, Runtime\n",
    "\n",
    "# 設定 executor、runtime 和 target\n",
    "executor = Executor(\"aot\", {\"link-params\": True})\n",
    "runtime = Runtime(\"crt\")\n",
    "target = \"c\"\n",
    "\n",
    "with tvm.transform.PassContext(opt_level=3):\n",
    "    # 使用 AOT executor, CRT runtime\n",
    "    lib = relay.build(mod, target=target, runtime=runtime, executor=executor, params=params)\n",
    "\n",
    "\n",
    "c_module = lib.get_lib()\n",
    "c_source = c_module.get_source()\n",
    "\n",
    "with open(\"model.c\", \"w\") as f:\n",
    "    f.write(c_source)"
   ]
  }
 ],
 "metadata": {
  "kernelspec": {
   "display_name": "Python 3 (ipykernel)",
   "language": "python",
   "name": "python3"
  },
  "language_info": {
   "codemirror_mode": {
    "name": "ipython",
    "version": 3
   },
   "file_extension": ".py",
   "mimetype": "text/x-python",
   "name": "python",
   "nbconvert_exporter": "python",
   "pygments_lexer": "ipython3",
   "version": "3.9.18"
  }
 },
 "nbformat": 4,
 "nbformat_minor": 5
}
